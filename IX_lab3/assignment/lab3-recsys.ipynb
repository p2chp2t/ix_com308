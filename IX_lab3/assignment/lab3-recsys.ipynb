{
 "cells": [
  {
   "cell_type": "markdown",
   "metadata": {},
   "source": [
    "# Lab 3 — recommender systems"
   ]
  },
  {
   "cell_type": "code",
   "execution_count": 1,
   "metadata": {},
   "outputs": [],
   "source": [
    "import json\n",
    "import matplotlib.pyplot as plt\n",
    "import numpy as np\n",
    "\n",
    "%matplotlib inline\n",
    "plt.style.use(\"ggplot\")"
   ]
  },
  {
   "cell_type": "markdown",
   "metadata": {},
   "source": [
    "What does the data look like?"
   ]
  },
  {
   "cell_type": "code",
   "execution_count": 2,
   "metadata": {},
   "outputs": [
    {
     "name": "stdout",
     "output_type": "stream",
     "text": [
      "put: `ix-data/model.txt': File exists\n",
      "put: `ix-data/ml-20m/movies.txt': File exists\n",
      "put: `ix-data/ml-20m/genome-tags.txt': File exists\n",
      "put: `ix-data/ml-20m/genome-scores.txt': File exists\n",
      "put: `ix-data/ml-20m/ratings.txt': File exists\n",
      "put: `ix-data/wikipedia-for-schools.txt': File exists\n"
     ]
    }
   ],
   "source": [
    "!hdfs dfs -put ~/../ix/ix-data/"
   ]
  },
  {
   "cell_type": "code",
   "execution_count": 3,
   "metadata": {
    "collapsed": false,
    "jupyter": {
     "outputs_hidden": false
    }
   },
   "outputs": [
    {
     "name": "stdout",
     "output_type": "stream",
     "text": [
      "{\"movieId\": 70286, \"userId\": 138493, \"timestamp\": 1258126944, \"rating\": 5.0}\n",
      "{\"movieId\": 71619, \"userId\": 138493, \"timestamp\": 1255811136, \"rating\": 2.5}\n"
     ]
    }
   ],
   "source": [
    "!hdfs dfs -cat ix-data/ml-20m/ratings.txt | tail -n 2"
   ]
  },
  {
   "cell_type": "code",
   "execution_count": 5,
   "metadata": {},
   "outputs": [
    {
     "name": "stdout",
     "output_type": "stream",
     "text": [
      "Collecting bokeh\n",
      "  Downloading bokeh-3.7.2-py3-none-any.whl.metadata (12 kB)\n",
      "Requirement already satisfied: Jinja2>=2.9 in /home/driss/miniconda3/envs/ixlab3/lib/python3.10/site-packages (from bokeh) (3.1.6)\n",
      "Requirement already satisfied: contourpy>=1.2 in /home/driss/miniconda3/envs/ixlab3/lib/python3.10/site-packages (from bokeh) (1.3.2)\n",
      "Collecting narwhals>=1.13 (from bokeh)\n",
      "  Downloading narwhals-1.38.1-py3-none-any.whl.metadata (9.3 kB)\n",
      "Requirement already satisfied: numpy>=1.16 in /home/driss/miniconda3/envs/ixlab3/lib/python3.10/site-packages (from bokeh) (2.2.5)\n",
      "Requirement already satisfied: packaging>=16.8 in /home/driss/miniconda3/envs/ixlab3/lib/python3.10/site-packages (from bokeh) (25.0)\n",
      "Requirement already satisfied: pandas>=1.2 in /home/driss/.local/lib/python3.10/site-packages (from bokeh) (2.2.3)\n",
      "Requirement already satisfied: pillow>=7.1.0 in /home/driss/miniconda3/envs/ixlab3/lib/python3.10/site-packages (from bokeh) (11.2.1)\n",
      "Requirement already satisfied: PyYAML>=3.10 in /home/driss/miniconda3/envs/ixlab3/lib/python3.10/site-packages (from bokeh) (6.0.2)\n",
      "Requirement already satisfied: tornado>=6.2 in /home/driss/miniconda3/envs/ixlab3/lib/python3.10/site-packages (from bokeh) (6.4.2)\n",
      "Collecting xyzservices>=2021.09.1 (from bokeh)\n",
      "  Downloading xyzservices-2025.4.0-py3-none-any.whl.metadata (4.3 kB)\n",
      "Requirement already satisfied: MarkupSafe>=2.0 in /home/driss/miniconda3/envs/ixlab3/lib/python3.10/site-packages (from Jinja2>=2.9->bokeh) (3.0.2)\n",
      "Requirement already satisfied: python-dateutil>=2.8.2 in /home/driss/miniconda3/envs/ixlab3/lib/python3.10/site-packages (from pandas>=1.2->bokeh) (2.9.0.post0)\n",
      "Requirement already satisfied: pytz>=2020.1 in /home/driss/.local/lib/python3.10/site-packages (from pandas>=1.2->bokeh) (2025.2)\n",
      "Requirement already satisfied: tzdata>=2022.7 in /home/driss/.local/lib/python3.10/site-packages (from pandas>=1.2->bokeh) (2025.2)\n",
      "Requirement already satisfied: six>=1.5 in /home/driss/miniconda3/envs/ixlab3/lib/python3.10/site-packages (from python-dateutil>=2.8.2->pandas>=1.2->bokeh) (1.17.0)\n",
      "Downloading bokeh-3.7.2-py3-none-any.whl (7.0 MB)\n",
      "\u001b[2K   \u001b[90m━━━━━━━━━━━━━━━━━━━━━━━━━━━━━━━━━━━━━━━━\u001b[0m \u001b[32m7.0/7.0 MB\u001b[0m \u001b[31m15.0 MB/s\u001b[0m eta \u001b[36m0:00:00\u001b[0mta \u001b[36m0:00:01\u001b[0m\n",
      "\u001b[?25hDownloading narwhals-1.38.1-py3-none-any.whl (338 kB)\n",
      "Downloading xyzservices-2025.4.0-py3-none-any.whl (90 kB)\n",
      "Installing collected packages: xyzservices, narwhals, bokeh\n",
      "\u001b[2K   \u001b[91m━━━━━━━━━━━━━━━━━━━━━━━━━━\u001b[0m\u001b[91m╸\u001b[0m\u001b[90m━━━━━━━━━━━━━\u001b[0m \u001b[32m2/3\u001b[0m [bokeh]\u001b[33m  WARNING: The script bokeh is installed in '/home/driss/.local/bin' which is not on PATH.\n",
      "  Consider adding this directory to PATH or, if you prefer to suppress this warning, use --no-warn-script-location.\u001b[0m\u001b[33m\n",
      "\u001b[2K   \u001b[90m━━━━━━━━━━━━━━━━━━━━━━━━━━━━━━━━━━━━━━━━\u001b[0m \u001b[32m3/3\u001b[0m [bokeh]32m2/3\u001b[0m [bokeh]\n",
      "\u001b[1A\u001b[2KSuccessfully installed bokeh-3.7.2 narwhals-1.38.1 xyzservices-2025.4.0\n",
      "Note: you may need to restart the kernel to use updated packages.\n"
     ]
    }
   ],
   "source": [
    "pip install --user bokeh"
   ]
  },
  {
   "cell_type": "code",
   "execution_count": 6,
   "metadata": {},
   "outputs": [
    {
     "name": "stderr",
     "output_type": "stream",
     "text": [
      "Setting default log level to \"WARN\".\n",
      "To adjust logging level use sc.setLogLevel(newLevel). For SparkR, use setLogLevel(newLevel).\n"
     ]
    },
    {
     "name": "stdout",
     "output_type": "stream",
     "text": [
      "http://iccluster031.iccluster.epfl.ch:4295\n"
     ]
    }
   ],
   "source": [
    "from pyspark import SparkContext\n",
    "from pyspark.sql import SparkSession\n",
    "from random import randrange\n",
    "import pwd, os, sys\n",
    "from bokeh.plotting import figure, show, output_notebook\n",
    "from bokeh.models import ColumnDataSource, HoverTool, LinearColorMapper, ColorBar\n",
    "from bokeh.palettes import Viridis256\n",
    "\n",
    "spark = SparkSession\\\n",
    ".builder\\\n",
    ".appName(pwd.getpwuid(os.getuid()).pw_name)\\\n",
    ".master('yarn')\\\n",
    ".config('spark.ui.port', randrange(4040, 4440, 5)) \\\n",
    ".config(\"spark.executorEnv.PYTHONPATH\", \":\".join(sys.path)) \\\n",
    ".getOrCreate()\n",
    "\n",
    "print(spark.conf.get(\"spark.driver.appUIAddress\"))\n",
    "sc = spark.sparkContext"
   ]
  },
  {
   "cell_type": "code",
   "execution_count": 7,
   "metadata": {},
   "outputs": [],
   "source": [
    "data = sc.textFile(\"ix-data/ml-20m/ratings.txt\").map(json.loads)"
   ]
  },
  {
   "cell_type": "markdown",
   "metadata": {},
   "source": [
    "### 3.5 Basic Statistics"
   ]
  },
  {
   "cell_type": "markdown",
   "metadata": {},
   "source": [
    "1. Number of ratings for each user"
   ]
  },
  {
   "cell_type": "code",
   "execution_count": 6,
   "metadata": {},
   "outputs": [
    {
     "name": "stderr",
     "output_type": "stream",
     "text": [
      "                                                                                "
     ]
    },
    {
     "data": {
      "image/png": "[encoded data removed]",
      "text/plain": [
       "<Figure size 1000x500 with 1 Axes>"
      ]
     },
     "metadata": {},
     "output_type": "display_data"
    }
   ],
   "source": [
    "user_ratings = data.map(lambda x: (x['userId'], 1)) # (userId, 1)\n",
    "user_rating_cnts = user_ratings.reduceByKey(lambda x, y: x + y) \\\n",
    "                                .map(lambda x: x[1]) \\\n",
    "                                .collect()   # (userId, cnt)\n",
    "\n",
    "plt.figure(figsize=(10, 5))\n",
    "plt.hist(user_rating_cnts, bins=100, log=True)\n",
    "plt.xlabel(\"Number of ratings per user\")\n",
    "plt.ylabel(\"Number of users (log scale)\")\n",
    "plt.title(\"Distribution of Number of Ratings per User (log scale)\")\n",
    "plt.show()"
   ]
  },
  {
   "cell_type": "markdown",
   "metadata": {},
   "source": [
    "- The goal is to understand the distribution of the number of ratings given by each user. On the x-axis, we represent the number of ratings a user has given, while the y-axis shows the number of users who have given that many ratings. Since the distribution is skewed, the histogram is plotted on a log scale to better visualize the data.\n",
    "- From the graph, we can observe that the highest count appears in the first bin, indicating that most users have rated a few items."
   ]
  },
  {
   "cell_type": "markdown",
   "metadata": {},
   "source": [
    "2. Number of ratings for each item"
   ]
  },
  {
   "cell_type": "code",
   "execution_count": 7,
   "metadata": {},
   "outputs": [
    {
     "name": "stderr",
     "output_type": "stream",
     "text": [
      "                                                                                "
     ]
    },
    {
     "data": {
      "image/png": "[encoded data removed]",
      "text/plain": [
       "<Figure size 1000x500 with 1 Axes>"
      ]
     },
     "metadata": {},
     "output_type": "display_data"
    }
   ],
   "source": [
    "movie_ratings = data.map(lambda x: (x['movieId'], 1)) # (movieId, 1)\n",
    "movie_rating_cnts = movie_ratings.reduceByKey(lambda x, y: x + y) \\\n",
    "                                .map(lambda x: x[1]) \\\n",
    "                                .collect()   # (movieId, cnt)\n",
    "\n",
    "plt.figure(figsize=(10, 5))\n",
    "plt.hist(movie_rating_cnts, bins=100, log=True)\n",
    "plt.xlabel(\"Number of ratings per movie\")\n",
    "plt.ylabel(\"Number of movies (log scale)\")\n",
    "plt.title(\"Distribution of Number of Ratings per Movie (log scale)\")\n",
    "plt.show()"
   ]
  },
  {
   "cell_type": "markdown",
   "metadata": {},
   "source": [
    "- This plot visualizes the distribution of the number of ratings received by each movie. The x-axis represents the number of ratings per movie, while the y-axis shows the number of movies that received that specific number of ratings. Due to the skewed distribution, a log scale is applied to the y-axis for better visualization. \n",
    "- As we can see, there are very few movies that received a large number of ratings, which makes sense given the distribution."
   ]
  },
  {
   "cell_type": "markdown",
   "metadata": {},
   "source": [
    "Is the number of ratings balanced uniformly across users and movies?"
   ]
  },
  {
   "cell_type": "markdown",
   "metadata": {},
   "source": [
    "- No, the number of ratings is not uniformly distributed across users and movies. From the histograms we've plotted, both show a skewed distribution. This means that many users rate only a few items, and most movies receive very few ratings. This is intuitive, as we often see that only a small number of users are highly active, while a large number of movies remain underrated."
   ]
  },
  {
   "cell_type": "markdown",
   "metadata": {},
   "source": [
    "### 3.6 Partitioning the dataset"
   ]
  },
  {
   "cell_type": "markdown",
   "metadata": {},
   "source": [
    "1. Append your personal ratings to the MovieLens dataset RDD."
   ]
  },
  {
   "cell_type": "code",
   "execution_count": 8,
   "metadata": {},
   "outputs": [],
   "source": [
    "with open('my-ratings.txt', 'r') as f:\n",
    "    personal_ratings = [json.loads(line) for line in f]\n",
    "\n",
    "personal_ratings_rdd = sc.parallelize(personal_ratings)\n",
    "\n",
    "# append personal ratings\n",
    "appended_data = data.union(personal_ratings_rdd)"
   ]
  },
  {
   "cell_type": "code",
   "execution_count": 9,
   "metadata": {},
   "outputs": [
    {
     "name": "stderr",
     "output_type": "stream",
     "text": [
      "                                                                                "
     ]
    },
    {
     "name": "stdout",
     "output_type": "stream",
     "text": [
      "original dataset: 20000263\n",
      "personal ratings: 11\n"
     ]
    },
    {
     "name": "stderr",
     "output_type": "stream",
     "text": [
      "[Stage 6:======================================================>  (23 + 1) / 24]"
     ]
    },
    {
     "name": "stdout",
     "output_type": "stream",
     "text": [
      "appended dataset: 20000274\n"
     ]
    },
    {
     "name": "stderr",
     "output_type": "stream",
     "text": [
      "                                                                                "
     ]
    }
   ],
   "source": [
    "# for debugging\n",
    "print(\"original dataset:\", data.count())\n",
    "print(\"personal ratings:\", personal_ratings_rdd.count())\n",
    "print(\"appended dataset:\", appended_data.count())"
   ]
  },
  {
   "cell_type": "markdown",
   "metadata": {},
   "source": [
    "2. Partition the data into two sets: ≈ 80% for training, and ≈ 20% for validation."
   ]
  },
  {
   "cell_type": "code",
   "execution_count": 10,
   "metadata": {},
   "outputs": [
    {
     "name": "stderr",
     "output_type": "stream",
     "text": [
      "                                                                                "
     ]
    },
    {
     "name": "stdout",
     "output_type": "stream",
     "text": [
      "Number of training ratings: 15998946\n"
     ]
    },
    {
     "name": "stderr",
     "output_type": "stream",
     "text": [
      "[Stage 8:======================================================>  (23 + 1) / 24]"
     ]
    },
    {
     "name": "stdout",
     "output_type": "stream",
     "text": [
      "Number of validation ratings: 4001328\n"
     ]
    },
    {
     "name": "stderr",
     "output_type": "stream",
     "text": [
      "                                                                                "
     ]
    }
   ],
   "source": [
    "training = appended_data.filter(lambda x: x['timestamp'] % 10 < 8)\n",
    "validation = appended_data.filter(lambda x: x['timestamp'] % 10 >= 8)\n",
    "\n",
    "print(\"Number of training ratings:\", training.count())\n",
    "print(\"Number of validation ratings:\", validation.count())"
   ]
  },
  {
   "cell_type": "markdown",
   "metadata": {},
   "source": [
    "# 3.2.1 Baseline recommender system"
   ]
  },
  {
   "cell_type": "markdown",
   "metadata": {},
   "source": [
    "### 3.7 Baseline model"
   ]
  },
  {
   "cell_type": "markdown",
   "metadata": {},
   "source": [
    "1. Compute the global mean μ, the user biases {α_u} and the item biases {β_m} using a sequence of RDD transformations on the training set."
   ]
  },
  {
   "cell_type": "code",
   "execution_count": 11,
   "metadata": {},
   "outputs": [
    {
     "name": "stderr",
     "output_type": "stream",
     "text": [
      "[Stage 10:==============================================>         (20 + 4) / 24]"
     ]
    },
    {
     "name": "stdout",
     "output_type": "stream",
     "text": [
      "Global mean:  3.5255163996428265\n"
     ]
    },
    {
     "name": "stderr",
     "output_type": "stream",
     "text": [
      "                                                                                "
     ]
    }
   ],
   "source": [
    "N = training.count()   # total number of ratings\n",
    "total_rating = training.map(lambda x: x['rating']).sum() # sum of all ratings\n",
    "mu = total_rating / N   # global average rating\n",
    "print(\"Global mean: \", mu)"
   ]
  },
  {
   "cell_type": "code",
   "execution_count": 12,
   "metadata": {},
   "outputs": [
    {
     "name": "stderr",
     "output_type": "stream",
     "text": [
      "                                                                                "
     ]
    }
   ],
   "source": [
    "# user biases\n",
    "# (userId, au)\n",
    "user_biases = training.map(lambda x: (x['userId'], x['rating'] - mu)) \\\n",
    "                            .combineByKey(lambda v: (v, 1), # init (sum, cnt)\n",
    "                                          lambda acc, v: (acc[0] + v, acc[1] + 1),  # update\n",
    "                                          lambda acc1, acc2: (acc1[0] + acc2[0], acc1[1] + acc2[1])) \\\n",
    "                            .mapValues(lambda x: x[0] / x[1] if x[1] > 0 else 0).collectAsMap()    # user bias (au)\n",
    "user_biases_bc = sc.broadcast(user_biases)\n",
    "mean_user_bias = sum(user_biases.values()) / len(user_biases)\n",
    "# item biases\n",
    "# (movieId, bm)\n",
    "item_biases = training.map(lambda x: (x['movieId'], \n",
    "                                           x['rating'] - mu - user_biases_bc.value.get(x[\"userId\"], 0.0))) \\\n",
    "                            .combineByKey(lambda v: (v, 1), # init (sum, cnt)\n",
    "                                          lambda acc, v: (acc[0] + v, acc[1] + 1),  # update\n",
    "                                          lambda acc1, acc2: (acc1[0] + acc2[0], acc1[1] + acc2[1])) \\\n",
    "                            .mapValues(lambda x: x[0] / x[1] if x[1] > 0 else 0).collectAsMap()    # item bias (bm)\n",
    "item_biases_bc = sc.broadcast(item_biases)\n",
    "mean_item_bias = sum(item_biases.values()) / len(item_biases)"
   ]
  },
  {
   "cell_type": "code",
   "execution_count": 13,
   "metadata": {},
   "outputs": [
    {
     "name": "stdout",
     "output_type": "stream",
     "text": [
      "mean user bias:  0.10166361441342911\n",
      "mean item bias:  -0.20450786310020605\n"
     ]
    }
   ],
   "source": [
    "print(\"mean user bias: \", mean_user_bias)\n",
    "print(\"mean item bias: \", mean_item_bias)"
   ]
  },
  {
   "cell_type": "markdown",
   "metadata": {},
   "source": [
    "2. How many parameters does this model have?"
   ]
  },
  {
   "cell_type": "code",
   "execution_count": 14,
   "metadata": {},
   "outputs": [
    {
     "name": "stdout",
     "output_type": "stream",
     "text": [
      "Number of parameters: 164319\n"
     ]
    }
   ],
   "source": [
    "num_users = len(user_biases)    # au params = #users\n",
    "num_movies = len(item_biases)   # bm params = #movies\n",
    "num_parameters = num_users + num_movies\n",
    "\n",
    "print(\"Number of parameters:\", num_parameters)"
   ]
  },
  {
   "cell_type": "markdown",
   "metadata": {},
   "source": [
    "3. Predict the rating of every user / movie pair in the validation set."
   ]
  },
  {
   "cell_type": "code",
   "execution_count": 15,
   "metadata": {},
   "outputs": [],
   "source": [
    "def predict_rating(userId, movieId, mu):\n",
    "    au = user_biases_bc.value.get(userId, mean_user_bias)\n",
    "    bm = item_biases_bc.value.get(movieId, mean_item_bias)\n",
    "    \n",
    "    return mu + au + bm\n",
    "\n",
    "# (userId, movieId, pred_r)\n",
    "predictions = validation.map(lambda x: (x['userId'], x['movieId'], predict_rating(x['userId'], x['movieId'], mu)))"
   ]
  },
  {
   "cell_type": "markdown",
   "metadata": {},
   "source": [
    "### 3.8 Evaluation"
   ]
  },
  {
   "cell_type": "code",
   "execution_count": 16,
   "metadata": {},
   "outputs": [],
   "source": [
    "def error(predictions, val_ratings):\n",
    "    # join predicted & real ratings\n",
    "    # ((userId, movieId), (pred_r, real_r))\n",
    "    preds_reals = predictions.map(lambda x: ((x[0], x[1]), x[2])) \\\n",
    "                            .join(val_ratings.map(lambda x: ((x['userId'], x['movieId']), x['rating'])))\n",
    "\n",
    "    # (userId, sq_err)\n",
    "    squared_errors = preds_reals.map(lambda x: (x[0][0], (x[1][0] - x[1][1])**2))\n",
    "\n",
    "    # (userId, (sum_sq_err, cnt))\n",
    "    sum_squared_errors = squared_errors.map(lambda x: (x[0], (x[1], 1))) \\\n",
    "                                        .reduceByKey(lambda a, b: (a[0] + b[0], a[1] + b[1]))\n",
    "\n",
    "    # root mean squared errors\n",
    "    # (userId, rmse)\n",
    "    user_errors = sum_squared_errors.map(lambda x: (x[1][0] / x[1][1])**0.5)\n",
    "\n",
    "    rmse = user_errors.mean()\n",
    "    return rmse             "
   ]
  },
  {
   "cell_type": "code",
   "execution_count": 17,
   "metadata": {},
   "outputs": [
    {
     "name": "stderr",
     "output_type": "stream",
     "text": [
      "[Stage 16:==============================================>         (40 + 8) / 48]"
     ]
    },
    {
     "name": "stdout",
     "output_type": "stream",
     "text": [
      "RMSE:  0.8669156841804618\n"
     ]
    },
    {
     "name": "stderr",
     "output_type": "stream",
     "text": [
      "                                                                                "
     ]
    }
   ],
   "source": [
    "error_value = error(predictions, validation)\n",
    "print(\"RMSE: \", error_value)"
   ]
  },
  {
   "cell_type": "markdown",
   "metadata": {
    "vscode": {
     "languageId": "bat"
    }
   },
   "source": [
    "# 3.2.2 Matrix-factorization model "
   ]
  },
  {
   "cell_type": "markdown",
   "metadata": {},
   "source": [
    "### 3.9 Regularization"
   ]
  },
  {
   "cell_type": "code",
   "execution_count": 6,
   "metadata": {},
   "outputs": [
    {
     "name": "stderr",
     "output_type": "stream",
     "text": [
      "25/05/08 09:03:45 WARN YarnScheduler: Initial job has not accepted any resources; check your cluster UI to ensure that workers are registered and have sufficient resources\n",
      "25/05/08 09:04:00 WARN YarnScheduler: Initial job has not accepted any resources; check your cluster UI to ensure that workers are registered and have sufficient resources\n",
      "25/05/08 09:04:15 WARN YarnScheduler: Initial job has not accepted any resources; check your cluster UI to ensure that workers are registered and have sufficient resources\n",
      "25/05/08 09:04:30 WARN YarnScheduler: Initial job has not accepted any resources; check your cluster UI to ensure that workers are registered and have sufficient resources\n",
      "25/05/08 09:04:45 WARN YarnScheduler: Initial job has not accepted any resources; check your cluster UI to ensure that workers are registered and have sufficient resources\n",
      "25/05/08 09:05:00 WARN YarnScheduler: Initial job has not accepted any resources; check your cluster UI to ensure that workers are registered and have sufficient resources\n",
      "25/05/08 09:05:15 WARN YarnScheduler: Initial job has not accepted any resources; check your cluster UI to ensure that workers are registered and have sufficient resources\n",
      "25/05/08 09:05:30 WARN YarnScheduler: Initial job has not accepted any resources; check your cluster UI to ensure that workers are registered and have sufficient resources\n",
      "25/05/08 09:05:45 WARN YarnScheduler: Initial job has not accepted any resources; check your cluster UI to ensure that workers are registered and have sufficient resources\n",
      "25/05/08 09:06:00 WARN YarnScheduler: Initial job has not accepted any resources; check your cluster UI to ensure that workers are registered and have sufficient resources\n",
      "25/05/08 09:06:15 WARN YarnScheduler: Initial job has not accepted any resources; check your cluster UI to ensure that workers are registered and have sufficient resources\n",
      "25/05/08 09:06:30 WARN YarnScheduler: Initial job has not accepted any resources; check your cluster UI to ensure that workers are registered and have sufficient resources\n",
      "25/05/08 09:06:45 WARN YarnScheduler: Initial job has not accepted any resources; check your cluster UI to ensure that workers are registered and have sufficient resources\n",
      "25/05/08 09:07:00 WARN YarnScheduler: Initial job has not accepted any resources; check your cluster UI to ensure that workers are registered and have sufficient resources\n",
      "25/05/08 09:07:15 WARN YarnScheduler: Initial job has not accepted any resources; check your cluster UI to ensure that workers are registered and have sufficient resources\n",
      "25/05/08 09:07:30 WARN YarnScheduler: Initial job has not accepted any resources; check your cluster UI to ensure that workers are registered and have sufficient resources\n",
      "25/05/08 09:07:45 WARN YarnScheduler: Initial job has not accepted any resources; check your cluster UI to ensure that workers are registered and have sufficient resources\n",
      "                                                                                "
     ]
    },
    {
     "name": "stdout",
     "output_type": "stream",
     "text": [
      "=== Regularization Impact ===\n"
     ]
    },
    {
     "name": "stderr",
     "output_type": "stream",
     "text": [
      "                                                                                "
     ]
    },
    {
     "name": "stdout",
     "output_type": "stream",
     "text": [
      "Rank = 10, Lambda = 1.0e-04, RMSE = 0.8567\n"
     ]
    },
    {
     "name": "stderr",
     "output_type": "stream",
     "text": [
      "                                                                                "
     ]
    },
    {
     "name": "stdout",
     "output_type": "stream",
     "text": [
      "Rank = 10, Lambda = 1.0e+01, RMSE = 3.6787\n",
      "\n",
      "=== Optimal Lambda Search ===\n"
     ]
    },
    {
     "name": "stderr",
     "output_type": "stream",
     "text": [
      "                                                                                "
     ]
    },
    {
     "name": "stdout",
     "output_type": "stream",
     "text": [
      "Lambda = 0.0001 | RMSE = 0.8567\n"
     ]
    },
    {
     "name": "stderr",
     "output_type": "stream",
     "text": [
      "                                                                                "
     ]
    },
    {
     "name": "stdout",
     "output_type": "stream",
     "text": [
      "Lambda = 0.0010 | RMSE = 0.8181\n"
     ]
    },
    {
     "name": "stderr",
     "output_type": "stream",
     "text": [
      "                                                                                "
     ]
    },
    {
     "name": "stdout",
     "output_type": "stream",
     "text": [
      "Lambda = 0.0100 | RMSE = 0.8039\n"
     ]
    },
    {
     "name": "stderr",
     "output_type": "stream",
     "text": [
      "                                                                                "
     ]
    },
    {
     "name": "stdout",
     "output_type": "stream",
     "text": [
      "Lambda = 0.1000 | RMSE = 0.8067\n"
     ]
    },
    {
     "name": "stderr",
     "output_type": "stream",
     "text": [
      "                                                                                "
     ]
    },
    {
     "name": "stdout",
     "output_type": "stream",
     "text": [
      "Lambda = 1.0000 | RMSE = 1.3202\n"
     ]
    },
    {
     "name": "stderr",
     "output_type": "stream",
     "text": [
      "[Stage 1047:=============================================>        (11 + 2) / 13]"
     ]
    },
    {
     "name": "stdout",
     "output_type": "stream",
     "text": [
      "Lambda = 10.0000 | RMSE = 3.6787\n",
      "\n",
      "Best lambda: 0.0100 with RMSE: 0.8039\n"
     ]
    },
    {
     "name": "stderr",
     "output_type": "stream",
     "text": [
      "                                                                                "
     ]
    }
   ],
   "source": [
    "import json\n",
    "from pyspark.sql import SparkSession\n",
    "from pyspark.ml.recommendation import ALS\n",
    "from pyspark.ml.evaluation import RegressionEvaluator\n",
    "\n",
    "entries = data.map(lambda entry: (int(entry[\"userId\"]), int(entry[\"movieId\"]), float(entry[\"rating\"])))\n",
    "df = entries.toDF([\"uid\", \"mid\", \"score\"])\n",
    "train_set, valid_set = df.randomSplit([0.8, 0.2], seed=42)\n",
    "\n",
    "def run_model(factor_dim, reg_strength):\n",
    "    algo = ALS(\n",
    "        rank=factor_dim,\n",
    "        maxIter=10,\n",
    "        regParam=reg_strength,\n",
    "        userCol=\"uid\",\n",
    "        itemCol=\"mid\",\n",
    "        ratingCol=\"score\",\n",
    "        coldStartStrategy=\"drop\"\n",
    "    )\n",
    "    result = algo.fit(train_set)\n",
    "    predictions = result.transform(valid_set)\n",
    "    evaluator = RegressionEvaluator(\n",
    "        metricName=\"rmse\",\n",
    "        labelCol=\"score\",\n",
    "        predictionCol=\"prediction\"\n",
    "    )\n",
    "    return evaluator.evaluate(predictions)\n",
    "\n",
    "print(\"=== Regularization Impact ===\")\n",
    "dimension = 10\n",
    "for penalty in [1e-4, 10.0]:\n",
    "    err = run_model(dimension, penalty)\n",
    "    print(f\"Rank = {dimension}, Lambda = {penalty:.1e}, RMSE = {err:.4f}\")\n",
    "\n",
    "print(\"\\n=== Optimal Lambda Search ===\")\n",
    "penalties = [1e-4, 1e-3, 1e-2, 1e-1, 1.0, 10.0]\n",
    "min_err = float(\"inf\")\n",
    "best_penalty = None\n",
    "\n",
    "for penalty in penalties:\n",
    "    err = run_model(dimension, penalty)\n",
    "    print(f\"Lambda = {penalty:.4f} | RMSE = {err:.4f}\")\n",
    "    if err < min_err:\n",
    "        min_err = err\n",
    "        best_penalty = penalty\n",
    "\n",
    "print(f\"\\nBest lambda: {best_penalty:.4f} with RMSE: {min_err:.4f}\")\n"
   ]
  },
  {
   "cell_type": "markdown",
   "metadata": {},
   "source": [
    "#### Rank Choice:\n",
    "We chose a **rank of 10**.  \n",
    "- **Lower ranks** (e.g., 5) result in simpler models that may underfit the data, failing to capture meaningful user–item interactions.  \n",
    "- **Higher ranks** (e.g., 20–25) allow more expressive models but increase the risk of overfitting and raise computational cost.  \n",
    "- Rank 10 offers a good trade-off between model complexity and generalization.\n",
    "\n",
    "#### Regularization Effects:\n",
    "- With **λ = 10⁻⁴**, we obtained an RMSE of **0.8567**. The predicted ratings were fairly accurate, but this small lambda caused **overfitting**: the model fit the training data too closely and may generalize poorly.\n",
    "- With **λ = 10.0**, the RMSE increased drastically to **3.6787**, indicating **underfitting**: the regularization was too strong, shrinking latent factors too much and limiting the model's capacity.\n",
    "\n",
    "#### Best Lambda Selection:\n",
    "A grid search identified the optimal lambda as **λ = 0.01**, yielding the lowest validation RMSE of **0.8039**.\n",
    "\n",
    "#### Comparison with Baseline:\n",
    "- **Baseline RMSE** (global average + biases): **0.8669**  \n",
    "- **Best ALS RMSE**: **0.8039**  \n",
    "→ This corresponds to an improvement of approximately **7.3%** over the baseline.\n",
    "\n",
    "#### Conclusion:\n",
    "Regularization plays a crucial role in matrix factorization. A well-chosen lambda prevents both overfitting and underfitting. Our optimized ALS model with λ = 0.01 significantly improves prediction accuracy compared to the baseline recommender.\n"
   ]
  },
  {
   "cell_type": "markdown",
   "metadata": {},
   "source": [
    "### 3.10 Recommendation"
   ]
  },
  {
   "cell_type": "code",
   "execution_count": null,
   "metadata": {},
   "outputs": [],
   "source": []
  },
  {
   "cell_type": "code",
   "execution_count": 8,
   "metadata": {},
   "outputs": [
    {
     "name": "stderr",
     "output_type": "stream",
     "text": [
      "                                                                                "
     ]
    },
    {
     "name": "stdout",
     "output_type": "stream",
     "text": [
      "\n",
      "Top 10 movie suggestions for user 123:\n"
     ]
    },
    {
     "name": "stderr",
     "output_type": "stream",
     "text": [
      "                                                                                "
     ]
    },
    {
     "name": "stdout",
     "output_type": "stream",
     "text": [
      " - My Brother Tom (2001) (predicted rating: 4.47)\n",
      " - Tomorrow Night (1998) (predicted rating: 4.45)\n",
      " - Jimmy's Hall (2014) (predicted rating: 4.44)\n",
      " - Utopia (2013) (predicted rating: 4.43)\n",
      " - Fitzgerald Family Christmas, The (2012) (predicted rating: 4.42)\n",
      " - Class of 92, The (2013) (predicted rating: 4.41)\n",
      " - Catastroika (2012) (predicted rating: 4.40)\n",
      " - Sierra, La (2005) (predicted rating: 4.35)\n",
      " - Siberian Education (Educazione siberiana) (2013) (predicted rating: 4.34)\n",
      " - Stockholm East (Stockholm Östra) (2011) (predicted rating: 4.32)\n",
      "\n",
      "Top 10 movie suggestions for user 138494:\n",
      "No recommendations available.\n"
     ]
    }
   ],
   "source": [
    "from pyspark.ml.recommendation import ALS\n",
    "import json\n",
    "\n",
    "# Load and parse movie metadata\n",
    "movies_rdd = sc.textFile(\"ix-data/ml-20m/movies.txt\").map(json.loads)\n",
    "id_to_title = movies_rdd.map(lambda entry: (entry[\"movieId\"], entry[\"title\"])).collectAsMap()\n",
    "\n",
    "# Prepare ratings data\n",
    "ratings_cleaned = data.map(lambda entry: (int(entry[\"userId\"]), int(entry[\"movieId\"]), float(entry[\"rating\"])))\n",
    "ratings_df = ratings_cleaned.toDF([\"user_id\", \"movie_id\", \"score\"])\n",
    "\n",
    "# Split into training and validation sets\n",
    "training_set, validation_set = ratings_df.randomSplit([0.8, 0.2], seed=42)\n",
    "\n",
    "# Train ALS model\n",
    "als_model = ALS(\n",
    "    rank=10,\n",
    "    maxIter=10,\n",
    "    regParam=0.1,\n",
    "    userCol=\"user_id\",\n",
    "    itemCol=\"movie_id\",\n",
    "    ratingCol=\"score\",\n",
    "    coldStartStrategy=\"drop\"\n",
    ")\n",
    "fitted_model = als_model.fit(training_set)\n",
    "\n",
    "# Define function to show recommendations\n",
    "def show_user_recommendations(user_id, model, title_lookup):\n",
    "    print(f\"\\nTop 10 movie suggestions for user {user_id}:\")\n",
    "    target_user_df = spark.createDataFrame([(user_id,)], [\"user_id\"])\n",
    "    recommendations = model.recommendForUserSubset(target_user_df, 10).collect()\n",
    "\n",
    "    if recommendations:\n",
    "        for entry in recommendations[0][\"recommendations\"]:\n",
    "            movie_id = entry[\"movie_id\"]\n",
    "            predicted_score = entry[\"rating\"]\n",
    "            movie_title = title_lookup.get(movie_id, f\"[ID {movie_id}]\")\n",
    "            print(f\" - {movie_title} (predicted rating: {predicted_score:.2f})\")\n",
    "    else:\n",
    "        print(\"No recommendations available.\")\n",
    "\n",
    "# Generate recommendations for the two users\n",
    "show_user_recommendations(123, fitted_model, id_to_title)\n",
    "show_user_recommendations(138494, fitted_model, id_to_title)\n"
   ]
  },
  {
   "cell_type": "markdown",
   "metadata": {},
   "source": [
    "We created a dictionary that maps `movieId` to movie titles using the `movies.txt` dataset. Then, using `ALS.recommendForUserSubset`, we generated 10 movie recommendations for:\n",
    "\n",
    "####  User 123\n",
    "The model recommended a list of **critically praised, independent, or niche films**, such as:\n",
    "\n",
    "- *My Brother Tom (2001)* — predicted rating: 4.47  \n",
    "- *Tomorrow Night (1998)* — 4.45  \n",
    "- *Jimmy's Hall (2014)* — 4.44  \n",
    "- *Utopia (2013)* — 4.43  \n",
    "- *Class of 92, The (2013)* — 4.41  \n",
    "- *Catastroika (2012)* — 4.40  \n",
    "\n",
    "These recommendations suggest the user enjoys **thought-provoking documentaries, international cinema, or lesser-known but quality productions**. The model seems to have captured a preference for artistic or indie films.\n",
    "\n",
    "####  Myself (User ID: 138494)\n",
    "Unfortunately, **no recommendations were found** for my user ID. This likely reflects the **cold-start problem** — the model doesn’t have enough rating data for this user to learn useful preferences.\n",
    "\n",
    "####  Takeaway\n",
    "Matrix factorization works best when it has sufficient historical data. It performs well for users with rich interaction histories (e.g., user 123), but struggles to recommend items for users with sparse data (e.g., myself).\n"
   ]
  },
  {
   "cell_type": "markdown",
   "metadata": {},
   "source": [
    "### 3.11 Visualisation"
   ]
  },
  {
   "cell_type": "code",
   "execution_count": 10,
   "metadata": {},
   "outputs": [
    {
     "name": "stderr",
     "output_type": "stream",
     "text": [
      "                                                                                "
     ]
    },
    {
     "data": {
      "text/html": [
       "    <style>\n",
       "        .bk-notebook-logo {\n",
       "            display: block;\n",
       "            width: 20px;\n",
       "            height: 20px;\n",
       "            background-image: url(data:image/png;base64,iVBORw0KGgoAAAANSUhEUgAAABQAAAAUCAYAAACNiR0NAAAABHNCSVQICAgIfAhkiAAAAAlwSFlzAAALEgAACxIB0t1+/AAAABx0RVh0U29mdHdhcmUAQWRvYmUgRmlyZXdvcmtzIENTNui8sowAAAOkSURBVDiNjZRtaJVlGMd/1/08zzln5zjP1LWcU9N0NkN8m2CYjpgQYQXqSs0I84OLIC0hkEKoPtiH3gmKoiJDU7QpLgoLjLIQCpEsNJ1vqUOdO7ppbuec5+V+rj4ctwzd8IIbbi6u+8f1539dt3A78eXC7QizUF7gyV1fD1Yqg4JWz84yffhm0qkFqBogB9rM8tZdtwVsPUhWhGcFJngGeWrPzHm5oaMmkfEg1usvLFyc8jLRqDOMru7AyC8saQr7GG7f5fvDeH7Ej8CM66nIF+8yngt6HWaKh7k49Soy9nXurCi1o3qUbS3zWfrYeQDTB/Qj6kX6Ybhw4B+bOYoLKCC9H3Nu/leUTZ1JdRWkkn2ldcCamzrcf47KKXdAJllSlxAOkRgyHsGC/zRday5Qld9DyoM4/q/rUoy/CXh3jzOu3bHUVZeU+DEn8FInkPBFlu3+nW3Nw0mk6vCDiWg8CeJaxEwuHS3+z5RgY+YBR6V1Z1nxSOfoaPa4LASWxxdNp+VWTk7+4vzaou8v8PN+xo+KY2xsw6une2frhw05CTYOmQvsEhjhWjn0bmXPjpE1+kplmmkP3suftwTubK9Vq22qKmrBhpY4jvd5afdRA3wGjFAgcnTK2s4hY0/GPNIb0nErGMCRxWOOX64Z8RAC4oCXdklmEvcL8o0BfkNK4lUg9HTl+oPlQxdNo3Mg4Nv175e/1LDGzZen30MEjRUtmXSfiTVu1kK8W4txyV6BMKlbgk3lMwYCiusNy9fVfvvwMxv8Ynl6vxoByANLTWplvuj/nF9m2+PDtt1eiHPBr1oIfhCChQMBw6Aw0UulqTKZdfVvfG7VcfIqLG9bcldL/+pdWTLxLUy8Qq38heUIjh4XlzZxzQm19lLFlr8vdQ97rjZVOLf8nclzckbcD4wxXMidpX30sFd37Fv/GtwwhzhxGVAprjbg0gCAEeIgwCZyTV2Z1REEW8O4py0wsjeloKoMr6iCY6dP92H6Vw/oTyICIthibxjm/DfN9lVz8IqtqKYLUXfoKVMVQVVJOElGjrnnUt9T9wbgp8AyYKaGlqingHZU/uG2NTZSVqwHQTWkx9hxjkpWDaCg6Ckj5qebgBVbT3V3NNXMSiWSDdGV3hrtzla7J+duwPOToIg42ChPQOQjspnSlp1V+Gjdged7+8UN5CRAV7a5EdFNwCjEaBR27b3W890TE7g24NAP/mMDXRWrGoFPQI9ls/MWO2dWFAar/xcOIImbbpA3zgAAAABJRU5ErkJggg==);\n",
       "        }\n",
       "    </style>\n",
       "    <div>\n",
       "        <a href=\"https://bokeh.org\" target=\"_blank\" class=\"bk-notebook-logo\"></a>\n",
       "        <span id=\"f842906b-de6a-4d3b-8772-02baf3c861dc\">Loading BokehJS ...</span>\n",
       "    </div>\n"
      ]
     },
     "metadata": {},
     "output_type": "display_data"
    },
    {
     "data": {
      "application/javascript": "'use strict';\n(function(root) {\n  function now() {\n    return new Date();\n  }\n\n  const force = true;\n\n  if (typeof root._bokeh_onload_callbacks === \"undefined\" || force === true) {\n    root._bokeh_onload_callbacks = [];\n    root._bokeh_is_loading = undefined;\n  }\n\nconst JS_MIME_TYPE = 'application/javascript';\n  const HTML_MIME_TYPE = 'text/html';\n  const EXEC_MIME_TYPE = 'application/vnd.bokehjs_exec.v0+json';\n  const CLASS_NAME = 'output_bokeh rendered_html';\n\n  /**\n   * Render data to the DOM node\n   */\n  function render(props, node) {\n    const script = document.createElement(\"script\");\n    node.appendChild(script);\n  }\n\n  /**\n   * Handle when an output is cleared or removed\n   */\n  function handleClearOutput(event, handle) {\n    function drop(id) {\n      const view = Bokeh.index.get_by_id(id)\n      if (view != null) {\n        view.model.document.clear()\n        Bokeh.index.delete(view)\n      }\n    }\n\n    const cell = handle.cell;\n\n    const id = cell.output_area._bokeh_element_id;\n    const server_id = cell.output_area._bokeh_server_id;\n\n    // Clean up Bokeh references\n    if (id != null) {\n      drop(id)\n    }\n\n    if (server_id !== undefined) {\n      // Clean up Bokeh references\n      const cmd_clean = \"from bokeh.io.state import curstate; print(curstate().uuid_to_server['\" + server_id + \"'].get_sessions()[0].document.roots[0]._id)\";\n      cell.notebook.kernel.execute(cmd_clean, {\n        iopub: {\n          output: function(msg) {\n            const id = msg.content.text.trim()\n            drop(id)\n          }\n        }\n      });\n      // Destroy server and session\n      const cmd_destroy = \"import bokeh.io.notebook as ion; ion.destroy_server('\" + server_id + \"')\";\n      cell.notebook.kernel.execute(cmd_destroy);\n    }\n  }\n\n  /**\n   * Handle when a new output is added\n   */\n  function handleAddOutput(event, handle) {\n    const output_area = handle.output_area;\n    const output = handle.output;\n\n    // limit handleAddOutput to display_data with EXEC_MIME_TYPE content only\n    if ((output.output_type != \"display_data\") || (!Object.prototype.hasOwnProperty.call(output.data, EXEC_MIME_TYPE))) {\n      return\n    }\n\n    const toinsert = output_area.element.find(\".\" + CLASS_NAME.split(' ')[0]);\n\n    if (output.metadata[EXEC_MIME_TYPE][\"id\"] !== undefined) {\n      toinsert[toinsert.length - 1].firstChild.textContent = output.data[JS_MIME_TYPE];\n      // store reference to embed id on output_area\n      output_area._bokeh_element_id = output.metadata[EXEC_MIME_TYPE][\"id\"];\n    }\n    if (output.metadata[EXEC_MIME_TYPE][\"server_id\"] !== undefined) {\n      const bk_div = document.createElement(\"div\");\n      bk_div.innerHTML = output.data[HTML_MIME_TYPE];\n      const script_attrs = bk_div.children[0].attributes;\n      for (let i = 0; i < script_attrs.length; i++) {\n        toinsert[toinsert.length - 1].firstChild.setAttribute(script_attrs[i].name, script_attrs[i].value);\n        toinsert[toinsert.length - 1].firstChild.textContent = bk_div.children[0].textContent\n      }\n      // store reference to server id on output_area\n      output_area._bokeh_server_id = output.metadata[EXEC_MIME_TYPE][\"server_id\"];\n    }\n  }\n\n  function register_renderer(events, OutputArea) {\n\n    function append_mime(data, metadata, element) {\n      // create a DOM node to render to\n      const toinsert = this.create_output_subarea(\n        metadata,\n        CLASS_NAME,\n        EXEC_MIME_TYPE\n      );\n      this.keyboard_manager.register_events(toinsert);\n      // Render to node\n      const props = {data: data, metadata: metadata[EXEC_MIME_TYPE]};\n      render(props, toinsert[toinsert.length - 1]);\n      element.append(toinsert);\n      return toinsert\n    }\n\n    /* Handle when an output is cleared or removed */\n    events.on('clear_output.CodeCell', handleClearOutput);\n    events.on('delete.Cell', handleClearOutput);\n\n    /* Handle when a new output is added */\n    events.on('output_added.OutputArea', handleAddOutput);\n\n    /**\n     * Register the mime type and append_mime function with output_area\n     */\n    OutputArea.prototype.register_mime_type(EXEC_MIME_TYPE, append_mime, {\n      /* Is output safe? */\n      safe: true,\n      /* Index of renderer in `output_area.display_order` */\n      index: 0\n    });\n  }\n\n  // register the mime type if in Jupyter Notebook environment and previously unregistered\n  if (root.Jupyter !== undefined) {\n    const events = require('base/js/events');\n    const OutputArea = require('notebook/js/outputarea').OutputArea;\n\n    if (OutputArea.prototype.mime_types().indexOf(EXEC_MIME_TYPE) == -1) {\n      register_renderer(events, OutputArea);\n    }\n  }\n  if (typeof (root._bokeh_timeout) === \"undefined\" || force === true) {\n    root._bokeh_timeout = Date.now() + 5000;\n    root._bokeh_failed_load = false;\n  }\n\n  const NB_LOAD_WARNING = {'data': {'text/html':\n     \"<div style='background-color: #fdd'>\\n\"+\n     \"<p>\\n\"+\n     \"BokehJS does not appear to have successfully loaded. If loading BokehJS from CDN, this \\n\"+\n     \"may be due to a slow or bad network connection. Possible fixes:\\n\"+\n     \"</p>\\n\"+\n     \"<ul>\\n\"+\n     \"<li>re-rerun `output_notebook()` to attempt to load from CDN again, or</li>\\n\"+\n     \"<li>use INLINE resources instead, as so:</li>\\n\"+\n     \"</ul>\\n\"+\n     \"<code>\\n\"+\n     \"from bokeh.resources import INLINE\\n\"+\n     \"output_notebook(resources=INLINE)\\n\"+\n     \"</code>\\n\"+\n     \"</div>\"}};\n\n  function display_loaded(error = null) {\n    const el = document.getElementById(\"f842906b-de6a-4d3b-8772-02baf3c861dc\");\n    if (el != null) {\n      const html = (() => {\n        if (typeof root.Bokeh === \"undefined\") {\n          if (error == null) {\n            return \"BokehJS is loading ...\";\n          } else {\n            return \"BokehJS failed to load.\";\n          }\n        } else {\n          const prefix = `BokehJS ${root.Bokeh.version}`;\n          if (error == null) {\n            return `${prefix} successfully loaded.`;\n          } else {\n            return `${prefix} <b>encountered errors</b> while loading and may not function as expected.`;\n          }\n        }\n      })();\n      el.innerHTML = html;\n\n      if (error != null) {\n        const wrapper = document.createElement(\"div\");\n        wrapper.style.overflow = \"auto\";\n        wrapper.style.height = \"5em\";\n        wrapper.style.resize = \"vertical\";\n        const content = document.createElement(\"div\");\n        content.style.fontFamily = \"monospace\";\n        content.style.whiteSpace = \"pre-wrap\";\n        content.style.backgroundColor = \"rgb(255, 221, 221)\";\n        content.textContent = error.stack ?? error.toString();\n        wrapper.append(content);\n        el.append(wrapper);\n      }\n    } else if (Date.now() < root._bokeh_timeout) {\n      setTimeout(() => display_loaded(error), 100);\n    }\n  }\n\n  function run_callbacks() {\n    try {\n      root._bokeh_onload_callbacks.forEach(function(callback) {\n        if (callback != null)\n          callback();\n      });\n    } finally {\n      delete root._bokeh_onload_callbacks\n    }\n    console.debug(\"Bokeh: all callbacks have finished\");\n  }\n\n  function load_libs(css_urls, js_urls, callback) {\n    if (css_urls == null) css_urls = [];\n    if (js_urls == null) js_urls = [];\n\n    root._bokeh_onload_callbacks.push(callback);\n    if (root._bokeh_is_loading > 0) {\n      console.debug(\"Bokeh: BokehJS is being loaded, scheduling callback at\", now());\n      return null;\n    }\n    if (js_urls == null || js_urls.length === 0) {\n      run_callbacks();\n      return null;\n    }\n    console.debug(\"Bokeh: BokehJS not loaded, scheduling load and callback at\", now());\n    root._bokeh_is_loading = css_urls.length + js_urls.length;\n\n    function on_load() {\n      root._bokeh_is_loading--;\n      if (root._bokeh_is_loading === 0) {\n        console.debug(\"Bokeh: all BokehJS libraries/stylesheets loaded\");\n        run_callbacks()\n      }\n    }\n\n    function on_error(url) {\n      console.error(\"failed to load \" + url);\n    }\n\n    for (let i = 0; i < css_urls.length; i++) {\n      const url = css_urls[i];\n      const element = document.createElement(\"link\");\n      element.onload = on_load;\n      element.onerror = on_error.bind(null, url);\n      element.rel = \"stylesheet\";\n      element.type = \"text/css\";\n      element.href = url;\n      console.debug(\"Bokeh: injecting link tag for BokehJS stylesheet: \", url);\n      document.body.appendChild(element);\n    }\n\n    for (let i = 0; i < js_urls.length; i++) {\n      const url = js_urls[i];\n      const element = document.createElement('script');\n      element.onload = on_load;\n      element.onerror = on_error.bind(null, url);\n      element.async = false;\n      element.src = url;\n      console.debug(\"Bokeh: injecting script tag for BokehJS library: \", url);\n      document.head.appendChild(element);\n    }\n  };\n\n  function inject_raw_css(css) {\n    const element = document.createElement(\"style\");\n    element.appendChild(document.createTextNode(css));\n    document.body.appendChild(element);\n  }\n\n  const js_urls = [\"https://cdn.bokeh.org/bokeh/release/bokeh-3.7.2.min.js\", \"https://cdn.bokeh.org/bokeh/release/bokeh-gl-3.7.2.min.js\", \"https://cdn.bokeh.org/bokeh/release/bokeh-widgets-3.7.2.min.js\", \"https://cdn.bokeh.org/bokeh/release/bokeh-tables-3.7.2.min.js\", \"https://cdn.bokeh.org/bokeh/release/bokeh-mathjax-3.7.2.min.js\"];\n  const css_urls = [];\n\n  const inline_js = [    function(Bokeh) {\n      Bokeh.set_log_level(\"info\");\n    },\nfunction(Bokeh) {\n    }\n  ];\n\n  function run_inline_js() {\n    if (root.Bokeh !== undefined || force === true) {\n      try {\n            for (let i = 0; i < inline_js.length; i++) {\n      inline_js[i].call(root, root.Bokeh);\n    }\n\n      } catch (error) {display_loaded(error);throw error;\n      }if (force === true) {\n        display_loaded();\n      }} else if (Date.now() < root._bokeh_timeout) {\n      setTimeout(run_inline_js, 100);\n    } else if (!root._bokeh_failed_load) {\n      console.log(\"Bokeh: BokehJS failed to load within specified timeout.\");\n      root._bokeh_failed_load = true;\n    } else if (force !== true) {\n      const cell = $(document.getElementById(\"f842906b-de6a-4d3b-8772-02baf3c861dc\")).parents('.cell').data().cell;\n      cell.output_area.append_execute_result(NB_LOAD_WARNING)\n    }\n  }\n\n  if (root._bokeh_is_loading === 0) {\n    console.debug(\"Bokeh: BokehJS loaded, going straight to plotting\");\n    run_inline_js();\n  } else {\n    load_libs(css_urls, js_urls, function() {\n      console.debug(\"Bokeh: BokehJS plotting callback run at\", now());\n      run_inline_js();\n    });\n  }\n}(window));",
      "application/vnd.bokehjs_load.v0+json": ""
     },
     "metadata": {},
     "output_type": "display_data"
    },
    {
     "name": "stderr",
     "output_type": "stream",
     "text": [
      "BokehDeprecationWarning: 'circle() method with size value' was deprecated in Bokeh 3.4.0 and will be removed, use 'scatter(size=...) instead' instead.\n"
     ]
    },
    {
     "data": {
      "text/html": [
       "\n",
       "  <div id=\"d7f0f9bd-95e2-4457-85a2-746ed75d109d\" data-root-id=\"p1005\" style=\"display: contents;\"></div>\n"
      ]
     },
     "metadata": {},
     "output_type": "display_data"
    },
    {
     "data": {
      "application/javascript": "(function(root) {\n  function embed_document(root) {\n  const docs_json = {\"968489db-52b9-45fb-aca3-1a75fd70d5b4\":{\"version\":\"3.7.2\",\"title\":\"Bokeh Application\",\"roots\":[{\"type\":\"object\",\"name\":\"Figure\",\"id\":\"p1005\",\"attributes\":{\"width\":850,\"x_range\":{\"type\":\"object\",\"name\":\"DataRange1d\",\"id\":\"p1006\"},\"y_range\":{\"type\":\"object\",\"name\":\"DataRange1d\",\"id\":\"p1007\"},\"x_scale\":{\"type\":\"object\",\"name\":\"LinearScale\",\"id\":\"p1015\"},\"y_scale\":{\"type\":\"object\",\"name\":\"LinearScale\",\"id\":\"p1016\"},\"title\":{\"type\":\"object\",\"name\":\"Title\",\"id\":\"p1008\",\"attributes\":{\"text\":\"Movie Embedding via Matrix Factorization (Rank = 2)\"}},\"renderers\":[{\"type\":\"object\",\"name\":\"GlyphRenderer\",\"id\":\"p1046\",\"attributes\":{\"data_source\":{\"type\":\"object\",\"name\":\"ColumnDataSource\",\"id\":\"p1001\",\"attributes\":{\"selected\":{\"type\":\"object\",\"name\":\"Selection\",\"id\":\"p1002\",\"attributes\":{\"indices\":[],\"line_indices\":[]}},\"selection_policy\":{\"type\":\"object\",\"name\":\"UnionRenderers\",\"id\":\"p1003\"},\"data\":{\"type\":\"map\",\"entries\":[[\"index\",{\"type\":\"ndarray\",\"array\":{\"type\":\"bytes\",\"data\":\"AAAAAAEAAAACAAAAAwAAAAQAAAAFAAAABgAAAAcAAAAIAAAACQAAAAoAAAALAAAADAAAAA0AAAAOAAAADwAAABAAAAARAAAAEgAAABMAAAAUAAAAFQAAABYAAAAXAAAAGAAAABkAAAAaAAAAGwAAABwAAAAdAAAAHgAAAB8AAAAgAAAAIQAAACIAAAAjAAAAJAAAAA==\"},\"shape\":[37],\"dtype\":\"int32\",\"order\":\"little\"}],[\"movieId\",{\"type\":\"ndarray\",\"array\":{\"type\":\"bytes\",\"data\":\"DAMAAOUUAAALCgAAPgEAABkJAAAbFAAAlNgAACh+AACaqwAAMhIAAHYaAAB/DwAAbL0BAOABAAAEAQAAXBIAAA8CAACPCwAA9BcAACoLAACAFwAAQm8BADcWAADYBAAAj7QBAGQBAAC1PwEAFAkAACsUAABDHAAArwQAAKu7AABxEQAAJQMAADEjAQDn1AAAkgoAAA==\"},\"shape\":[37],\"dtype\":\"int32\",\"order\":\"little\"}],[\"title\",{\"type\":\"ndarray\",\"array\":[\"Independence Day (a.k.a. ID4) (1996)\",\"Spider-Man (2002)\",\"Matrix, The (1999)\",\"Shawshank Redemption, The (1994)\",\"American History X (1998)\",\"Wild Strawberries (Smultronst\\u00c3\\u00a4llet) (1957)\",\"Control (2007)\",\"Miss Congeniality 2: Armed and Fabulous (2005)\",\"Just My Luck (2006)\",\"Santa Sangre (1989)\",\"Videodrome (1983)\",\"Billy Elliot (2000)\",\"Pride (2014)\",\"Jurassic Park (1993)\",\"Star Wars: Episode IV - A New Hope (1977)\",\"Princess Diaries, The (2001)\",\"Schindler's List (1993)\",\"Fight Club (1999)\",\"New York Ripper, The (Squartatore di New York, Lo) (1982)\",\"American Beauty (1999)\",\"City of God (Cidade de Deus) (2002)\",\"Battleship (2012)\",\"Take Care of My Cat (Goyangileul butaghae) (2001)\",\"Terminator, The (1984)\",\"Edge of Tomorrow (2014)\",\"Forrest Gump (1994)\",\"King's Speech, The (2010)\",\"Life Is Beautiful (La Vita \\u00c3\\u00a8 bella) (1997)\",\"Stage Fright (Deliria) (1987)\",\"Ichi the Killer (Koroshiya 1) (2001)\",\"Brazil (1985)\",\"Fountain, The (2006)\",\"Accused, The (1988)\",\"Time to Kill, A (1996)\",\"Ghost Writer, The (2010)\",\"Superbad (2007)\",\"American Pie (1999)\"],\"shape\":[37],\"dtype\":\"object\",\"order\":\"little\"}],[\"RTscore\",{\"type\":\"ndarray\",\"array\":{\"type\":\"bytes\",\"data\":\"MzMzMzMz4z97FK5H4XrsP9ejcD0K1+s/H4XrUbge7T+PwvUoXI/qP2ZmZmZmZu4/16NwPQrX6z8zMzMzMzPDP6RwPQrXo8A/MzMzMzMz6z/2KFyPwvXoPzMzMzMzM+s/cT0K16Nw7T/D9Shcj8LtP8P1KFyPwu0/FK5H4XoU3j+4HoXrUbjuP0jhehSuR+k/w/UoXI/CxT8pXI/C9SjsP83MzMzMzOw/w/UoXI/C1T/sUbgehevpPwAAAAAAAPA/H4XrUbge7T8K16NwPQrnP2ZmZmZmZu4/mpmZmZmZ6T/D9Shcj8LlP3sUrkfheuQ/XI/C9Shc7z9SuB6F61HgP2ZmZmZmZu4/cT0K16Nw5T+PwvUoXI/qPylcj8L1KOw/MzMzMzMz4z8=\"},\"shape\":[37],\"dtype\":\"float64\",\"order\":\"little\"}],[\"x\",{\"type\":\"ndarray\",\"array\":{\"type\":\"bytes\",\"data\":\"AAAAYAjGAUAAAAAA0GkBQAAAACARIANAAAAAoB07BEAAAACAk0ICQAAAAIBaCPw/AAAAgL0W/j8AAABAww78PwAAAMBKb/0/AAAAQIpd9z8AAABAAzX7PwAAAMDd5wBAAAAAoA8k/z8AAADgVfsBQAAAAOA1FQNAAAAAAKKDAEAAAADgsVgDQAAAAODE9QFAAAAAIMwW+z8AAADAfxYBQAAAAGBmNQFAAAAAQKrG/j8AAAAgtCj5PwAAACA03wFAAAAAwBMoAkAAAACgxFoDQAAAAOB4NgJAAAAAIHPZAkAAAADAq3D6PwAAACA7Rfs/AAAAoOue/T8AAABgkdL9PwAAAGCBIAFAAAAAgJ9NAkAAAACg4+r/PwAAAACa5QBAAAAAYOzwAEA=\"},\"shape\":[37],\"dtype\":\"float64\",\"order\":\"little\"}],[\"y\",{\"type\":\"ndarray\",\"array\":{\"type\":\"bytes\",\"data\":\"AAAAYEFMmr8AAACgEpnjvwAAAOBMjfC/AAAAwJG88b8AAACAnePzvwAAAGDvnP+/AAAAYCGP+b8AAADAxPLWPwAAAGA97dg/AAAAwBmW/r8AAAAAvFf6vwAAAKAsdvK/AAAAgHSS+r8AAADgoHXfvwAAAIDCpvC/AAAAwAygpj8AAADAvszyvwAAAGDLofa/AAAAAOmg7r8AAABAOD74vwAAAODCgvm/AAAAwI7BzT8AAAAAYDP9vwAAACCI8e6/AAAAwP286r8AAAAgHo3lvwAAAODsXPG/AAAA4BQh8r8AAABg7+v0vwAAACDhPPe/AAAA4GaI/L8AAADApCj2vwAAAOBLm/C/AAAAQOaP2L8AAAAAnszzvwAAACC5RPG/AAAAYJes2L8=\"},\"shape\":[37],\"dtype\":\"float64\",\"order\":\"little\"}]]}}},\"view\":{\"type\":\"object\",\"name\":\"CDSView\",\"id\":\"p1047\",\"attributes\":{\"filter\":{\"type\":\"object\",\"name\":\"AllIndices\",\"id\":\"p1048\"}}},\"glyph\":{\"type\":\"object\",\"name\":\"Scatter\",\"id\":\"p1043\",\"attributes\":{\"x\":{\"type\":\"field\",\"field\":\"x\"},\"y\":{\"type\":\"field\",\"field\":\"y\"},\"size\":{\"type\":\"value\",\"value\":10},\"line_color\":{\"type\":\"field\",\"field\":\"RTscore\",\"transform\":{\"type\":\"object\",\"name\":\"LinearColorMapper\",\"id\":\"p1004\",\"attributes\":{\"palette\":[\"#440154\",\"#440255\",\"#440357\",\"#450558\",\"#45065A\",\"#45085B\",\"#46095C\",\"#460B5E\",\"#460C5F\",\"#460E61\",\"#470F62\",\"#471163\",\"#471265\",\"#471466\",\"#471567\",\"#471669\",\"#47186A\",\"#48196B\",\"#481A6C\",\"#481C6E\",\"#481D6F\",\"#481E70\",\"#482071\",\"#482172\",\"#482273\",\"#482374\",\"#472575\",\"#472676\",\"#472777\",\"#472878\",\"#472A79\",\"#472B7A\",\"#472C7B\",\"#462D7C\",\"#462F7C\",\"#46307D\",\"#46317E\",\"#45327F\",\"#45347F\",\"#453580\",\"#453681\",\"#443781\",\"#443982\",\"#433A83\",\"#433B83\",\"#433C84\",\"#423D84\",\"#423E85\",\"#424085\",\"#414186\",\"#414286\",\"#404387\",\"#404487\",\"#3F4587\",\"#3F4788\",\"#3E4888\",\"#3E4989\",\"#3D4A89\",\"#3D4B89\",\"#3D4C89\",\"#3C4D8A\",\"#3C4E8A\",\"#3B508A\",\"#3B518A\",\"#3A528B\",\"#3A538B\",\"#39548B\",\"#39558B\",\"#38568B\",\"#38578C\",\"#37588C\",\"#37598C\",\"#365A8C\",\"#365B8C\",\"#355C8C\",\"#355D8C\",\"#345E8D\",\"#345F8D\",\"#33608D\",\"#33618D\",\"#32628D\",\"#32638D\",\"#31648D\",\"#31658D\",\"#31668D\",\"#30678D\",\"#30688D\",\"#2F698D\",\"#2F6A8D\",\"#2E6B8E\",\"#2E6C8E\",\"#2E6D8E\",\"#2D6E8E\",\"#2D6F8E\",\"#2C708E\",\"#2C718E\",\"#2C728E\",\"#2B738E\",\"#2B748E\",\"#2A758E\",\"#2A768E\",\"#2A778E\",\"#29788E\",\"#29798E\",\"#287A8E\",\"#287A8E\",\"#287B8E\",\"#277C8E\",\"#277D8E\",\"#277E8E\",\"#267F8E\",\"#26808E\",\"#26818E\",\"#25828E\",\"#25838D\",\"#24848D\",\"#24858D\",\"#24868D\",\"#23878D\",\"#23888D\",\"#23898D\",\"#22898D\",\"#228A8D\",\"#228B8D\",\"#218C8D\",\"#218D8C\",\"#218E8C\",\"#208F8C\",\"#20908C\",\"#20918C\",\"#1F928C\",\"#1F938B\",\"#1F948B\",\"#1F958B\",\"#1F968B\",\"#1E978A\",\"#1E988A\",\"#1E998A\",\"#1E998A\",\"#1E9A89\",\"#1E9B89\",\"#1E9C89\",\"#1E9D88\",\"#1E9E88\",\"#1E9F88\",\"#1EA087\",\"#1FA187\",\"#1FA286\",\"#1FA386\",\"#20A485\",\"#20A585\",\"#21A685\",\"#21A784\",\"#22A784\",\"#23A883\",\"#23A982\",\"#24AA82\",\"#25AB81\",\"#26AC81\",\"#27AD80\",\"#28AE7F\",\"#29AF7F\",\"#2AB07E\",\"#2BB17D\",\"#2CB17D\",\"#2EB27C\",\"#2FB37B\",\"#30B47A\",\"#32B57A\",\"#33B679\",\"#35B778\",\"#36B877\",\"#38B976\",\"#39B976\",\"#3BBA75\",\"#3DBB74\",\"#3EBC73\",\"#40BD72\",\"#42BE71\",\"#44BE70\",\"#45BF6F\",\"#47C06E\",\"#49C16D\",\"#4BC26C\",\"#4DC26B\",\"#4FC369\",\"#51C468\",\"#53C567\",\"#55C666\",\"#57C665\",\"#59C764\",\"#5BC862\",\"#5EC961\",\"#60C960\",\"#62CA5F\",\"#64CB5D\",\"#67CC5C\",\"#69CC5B\",\"#6BCD59\",\"#6DCE58\",\"#70CE56\",\"#72CF55\",\"#74D054\",\"#77D052\",\"#79D151\",\"#7CD24F\",\"#7ED24E\",\"#81D34C\",\"#83D34B\",\"#86D449\",\"#88D547\",\"#8BD546\",\"#8DD644\",\"#90D643\",\"#92D741\",\"#95D73F\",\"#97D83E\",\"#9AD83C\",\"#9DD93A\",\"#9FD938\",\"#A2DA37\",\"#A5DA35\",\"#A7DB33\",\"#AADB32\",\"#ADDC30\",\"#AFDC2E\",\"#B2DD2C\",\"#B5DD2B\",\"#B7DD29\",\"#BADE27\",\"#BDDE26\",\"#BFDF24\",\"#C2DF22\",\"#C5DF21\",\"#C7E01F\",\"#CAE01E\",\"#CDE01D\",\"#CFE11C\",\"#D2E11B\",\"#D4E11A\",\"#D7E219\",\"#DAE218\",\"#DCE218\",\"#DFE318\",\"#E1E318\",\"#E4E318\",\"#E7E419\",\"#E9E419\",\"#ECE41A\",\"#EEE51B\",\"#F1E51C\",\"#F3E51E\",\"#F6E61F\",\"#F8E621\",\"#FAE622\",\"#FDE724\"],\"low\":0.13,\"high\":1.0}}},\"line_alpha\":{\"type\":\"value\",\"value\":0.8},\"fill_color\":{\"type\":\"field\",\"field\":\"RTscore\",\"transform\":{\"id\":\"p1004\"}},\"fill_alpha\":{\"type\":\"value\",\"value\":0.8},\"hatch_color\":{\"type\":\"field\",\"field\":\"RTscore\",\"transform\":{\"id\":\"p1004\"}},\"hatch_alpha\":{\"type\":\"value\",\"value\":0.8}}},\"nonselection_glyph\":{\"type\":\"object\",\"name\":\"Scatter\",\"id\":\"p1044\",\"attributes\":{\"x\":{\"type\":\"field\",\"field\":\"x\"},\"y\":{\"type\":\"field\",\"field\":\"y\"},\"size\":{\"type\":\"value\",\"value\":10},\"line_color\":{\"type\":\"field\",\"field\":\"RTscore\",\"transform\":{\"id\":\"p1004\"}},\"line_alpha\":{\"type\":\"value\",\"value\":0.1},\"fill_color\":{\"type\":\"field\",\"field\":\"RTscore\",\"transform\":{\"id\":\"p1004\"}},\"fill_alpha\":{\"type\":\"value\",\"value\":0.1},\"hatch_color\":{\"type\":\"field\",\"field\":\"RTscore\",\"transform\":{\"id\":\"p1004\"}},\"hatch_alpha\":{\"type\":\"value\",\"value\":0.1}}},\"muted_glyph\":{\"type\":\"object\",\"name\":\"Scatter\",\"id\":\"p1045\",\"attributes\":{\"x\":{\"type\":\"field\",\"field\":\"x\"},\"y\":{\"type\":\"field\",\"field\":\"y\"},\"size\":{\"type\":\"value\",\"value\":10},\"line_color\":{\"type\":\"field\",\"field\":\"RTscore\",\"transform\":{\"id\":\"p1004\"}},\"line_alpha\":{\"type\":\"value\",\"value\":0.2},\"fill_color\":{\"type\":\"field\",\"field\":\"RTscore\",\"transform\":{\"id\":\"p1004\"}},\"fill_alpha\":{\"type\":\"value\",\"value\":0.2},\"hatch_color\":{\"type\":\"field\",\"field\":\"RTscore\",\"transform\":{\"id\":\"p1004\"}},\"hatch_alpha\":{\"type\":\"value\",\"value\":0.2}}}}}],\"toolbar\":{\"type\":\"object\",\"name\":\"Toolbar\",\"id\":\"p1014\",\"attributes\":{\"tools\":[{\"type\":\"object\",\"name\":\"PanTool\",\"id\":\"p1027\"},{\"type\":\"object\",\"name\":\"WheelZoomTool\",\"id\":\"p1028\",\"attributes\":{\"renderers\":\"auto\"}},{\"type\":\"object\",\"name\":\"BoxZoomTool\",\"id\":\"p1029\",\"attributes\":{\"dimensions\":\"both\",\"overlay\":{\"type\":\"object\",\"name\":\"BoxAnnotation\",\"id\":\"p1030\",\"attributes\":{\"syncable\":false,\"line_color\":\"black\",\"line_alpha\":1.0,\"line_width\":2,\"line_dash\":[4,4],\"fill_color\":\"lightgrey\",\"fill_alpha\":0.5,\"level\":\"overlay\",\"visible\":false,\"left\":{\"type\":\"number\",\"value\":\"nan\"},\"right\":{\"type\":\"number\",\"value\":\"nan\"},\"top\":{\"type\":\"number\",\"value\":\"nan\"},\"bottom\":{\"type\":\"number\",\"value\":\"nan\"},\"left_units\":\"canvas\",\"right_units\":\"canvas\",\"top_units\":\"canvas\",\"bottom_units\":\"canvas\",\"handles\":{\"type\":\"object\",\"name\":\"BoxInteractionHandles\",\"id\":\"p1036\",\"attributes\":{\"all\":{\"type\":\"object\",\"name\":\"AreaVisuals\",\"id\":\"p1035\",\"attributes\":{\"fill_color\":\"white\",\"hover_fill_color\":\"lightgray\"}}}}}}}},{\"type\":\"object\",\"name\":\"ResetTool\",\"id\":\"p1037\"},{\"type\":\"object\",\"name\":\"HoverTool\",\"id\":\"p1038\",\"attributes\":{\"renderers\":\"auto\",\"tooltips\":[[\"Title\",\"@title\"],[\"RTscore\",\"@RTscore\"]]}},{\"type\":\"object\",\"name\":\"SaveTool\",\"id\":\"p1039\"}]}},\"left\":[{\"type\":\"object\",\"name\":\"LinearAxis\",\"id\":\"p1022\",\"attributes\":{\"ticker\":{\"type\":\"object\",\"name\":\"BasicTicker\",\"id\":\"p1023\",\"attributes\":{\"mantissas\":[1,2,5]}},\"formatter\":{\"type\":\"object\",\"name\":\"BasicTickFormatter\",\"id\":\"p1024\"},\"major_label_policy\":{\"type\":\"object\",\"name\":\"AllLabels\",\"id\":\"p1025\"}}}],\"right\":[{\"type\":\"object\",\"name\":\"ColorBar\",\"id\":\"p1051\",\"attributes\":{\"location\":[0,0],\"major_label_policy\":{\"type\":\"object\",\"name\":\"NoOverlap\",\"id\":\"p1052\"},\"color_mapper\":{\"id\":\"p1004\"}}}],\"below\":[{\"type\":\"object\",\"name\":\"LinearAxis\",\"id\":\"p1017\",\"attributes\":{\"ticker\":{\"type\":\"object\",\"name\":\"BasicTicker\",\"id\":\"p1018\",\"attributes\":{\"mantissas\":[1,2,5]}},\"formatter\":{\"type\":\"object\",\"name\":\"BasicTickFormatter\",\"id\":\"p1019\"},\"major_label_policy\":{\"type\":\"object\",\"name\":\"AllLabels\",\"id\":\"p1020\"}}}],\"center\":[{\"type\":\"object\",\"name\":\"Grid\",\"id\":\"p1021\",\"attributes\":{\"axis\":{\"id\":\"p1017\"}}},{\"type\":\"object\",\"name\":\"Grid\",\"id\":\"p1026\",\"attributes\":{\"dimension\":1,\"axis\":{\"id\":\"p1022\"}}},{\"type\":\"object\",\"name\":\"Legend\",\"id\":\"p1049\",\"attributes\":{\"visible\":false,\"items\":[{\"type\":\"object\",\"name\":\"LegendItem\",\"id\":\"p1050\",\"attributes\":{\"label\":{\"type\":\"value\",\"value\":\"RTscore\"},\"renderers\":[{\"id\":\"p1046\"}]}}]}}]}}]}};\n  const render_items = [{\"docid\":\"968489db-52b9-45fb-aca3-1a75fd70d5b4\",\"roots\":{\"p1005\":\"d7f0f9bd-95e2-4457-85a2-746ed75d109d\"},\"root_ids\":[\"p1005\"]}];\n  void root.Bokeh.embed.embed_items_notebook(docs_json, render_items);\n  }\n  if (root.Bokeh !== undefined) {\n    embed_document(root);\n  } else {\n    let attempts = 0;\n    const timer = setInterval(function(root) {\n      if (root.Bokeh !== undefined) {\n        clearInterval(timer);\n        embed_document(root);\n      } else {\n        attempts++;\n        if (attempts > 100) {\n          clearInterval(timer);\n          console.log(\"Bokeh: ERROR: Unable to run BokehJS code because BokehJS library is missing\");\n        }\n      }\n    }, 10, root)\n  }\n})(window);",
      "application/vnd.bokehjs_exec.v0+json": ""
     },
     "metadata": {
      "application/vnd.bokehjs_exec.v0+json": {
       "id": "p1005"
      }
     },
     "output_type": "display_data"
    }
   ],
   "source": [
    "import pickle\n",
    "import json\n",
    "import pandas as pd\n",
    "from pyspark.ml.recommendation import ALS\n",
    "from pyspark.sql.functions import col\n",
    "from bokeh.plotting import figure, show, output_notebook\n",
    "from bokeh.models import ColumnDataSource, HoverTool, LinearColorMapper, ColorBar\n",
    "from bokeh.palettes import Viridis256\n",
    "\n",
    "# Load ratings and convert to DataFrame\n",
    "data = sc.textFile(\"ix-data/ml-20m/ratings.txt\").map(json.loads)\n",
    "ratings = data.map(lambda d: (int(d[\"userId\"]), int(d[\"movieId\"]), float(d[\"rating\"])))\n",
    "ratings_df = ratings.toDF([\"user\", \"item\", \"rating\"])\n",
    "\n",
    "# Train ALS with rank 2\n",
    "als_model = ALS(\n",
    "    rank=2,\n",
    "    maxIter=10,\n",
    "    regParam=0.1,\n",
    "    userCol=\"user\",\n",
    "    itemCol=\"item\",\n",
    "    ratingCol=\"rating\",\n",
    "    coldStartStrategy=\"drop\"\n",
    ")\n",
    "model = als_model.fit(ratings_df)\n",
    "\n",
    "# Load selected movies\n",
    "with open(\"selected-movies.pickle\", \"rb\") as f:\n",
    "    selected = pickle.load(f, encoding=\"latin1\")\n",
    "df_movies = pd.DataFrame(selected, columns=[\"movieId\", \"title\", \"RTscore\"])\n",
    "valid_ids = df_movies[\"movieId\"].tolist()\n",
    "\n",
    "# Get latent coordinates\n",
    "features = model.itemFactors.filter(col(\"id\").isin(valid_ids)).collect()\n",
    "coords = {row[\"id\"]: row[\"features\"] for row in features if len(row[\"features\"]) == 2}\n",
    "df_movies = df_movies[df_movies[\"movieId\"].isin(coords)]\n",
    "df_movies[\"x\"] = df_movies[\"movieId\"].map(lambda i: coords[i][0])\n",
    "df_movies[\"y\"] = df_movies[\"movieId\"].map(lambda i: coords[i][1])\n",
    "\n",
    "# Interactive Bokeh plot\n",
    "output_notebook()\n",
    "source = ColumnDataSource(df_movies)\n",
    "\n",
    "color_mapper = LinearColorMapper(palette=Viridis256, low=df_movies[\"RTscore\"].min(), high=df_movies[\"RTscore\"].max())\n",
    "\n",
    "p = figure(title=\"Movie Embedding via Matrix Factorization (Rank = 2)\",\n",
    "           width=850, height=600,\n",
    "           tools=\"pan,wheel_zoom,box_zoom,reset,hover,save\")\n",
    "\n",
    "p.circle(\"x\", \"y\", size=10, source=source,\n",
    "         color={\"field\": \"RTscore\", \"transform\": color_mapper},\n",
    "         alpha=0.8, legend_label=\"RTscore\")\n",
    "\n",
    "hover = p.select_one(HoverTool)\n",
    "hover.tooltips = [(\"Title\", \"@title\"), (\"RTscore\", \"@RTscore\")]\n",
    "\n",
    "color_bar = ColorBar(color_mapper=color_mapper, location=(0, 0))\n",
    "p.add_layout(color_bar, 'right')\n",
    "p.legend.visible = False\n",
    "\n",
    "show(p)\n"
   ]
  },
  {
   "cell_type": "markdown",
   "metadata": {},
   "source": [
    "\n",
    "We trained a matrix factorization model with **rank = 2**, which embeds each movie into a 2D latent space based on user preferences. Using `selected-movies.pickle`, we extracted latent features for a subset of movies and visualized them interactively using **Bokeh**.\n",
    "\n",
    "#### What we observe:\n",
    "- The interactive plot reveals **clusters** of movies in the 2D space.\n",
    "- Movies with **higher Rotten Tomatoes scores** appear more toward the yellow range of the Viridis color scale, suggesting a correlation between the learned features and external quality ratings.\n",
    "- Movies with similar characteristics (e.g., genre, tone, popularity) tend to be close together in the plot.\n",
    "\n",
    "#### Interpretation of the dimensions:\n",
    "- One latent dimension might represent **genre preferences**, distinguishing categories like comedy vs thriller or drama vs action.\n",
    "- The second dimension may reflect **mainstream popularity** or **artistic style**, separating widely liked blockbusters from niche or indie films.\n",
    "- These axes are **not explicitly defined** but are learned from patterns in user–movie rating behavior.\n",
    "\n",
    "#### Do we recognize clusters?\n",
    "Yes. Movies that are grouped together often share meaningful similarities. For instance, high-rated documentaries, critically acclaimed dramas, or quirky comedies often appear near each other. This confirms that matrix factorization **captures semantic structure** in user preferences even without using explicit content metadata.\n"
   ]
  },
  {
   "cell_type": "code",
   "execution_count": null,
   "metadata": {},
   "outputs": [],
   "source": []
  }
 ],
 "metadata": {
  "anaconda-cloud": {},
  "kernelspec": {
   "display_name": "Python 3 (ipykernel)",
   "language": "python",
   "name": "python3"
  },
  "language_info": {
   "codemirror_mode": {
    "name": "ipython",
    "version": 3
   },
   "file_extension": ".py",
   "mimetype": "text/x-python",
   "name": "python",
   "nbconvert_exporter": "python",
   "pygments_lexer": "ipython3",
   "version": "3.10.16"
  }
 },
 "nbformat": 4,
 "nbformat_minor": 4
}
