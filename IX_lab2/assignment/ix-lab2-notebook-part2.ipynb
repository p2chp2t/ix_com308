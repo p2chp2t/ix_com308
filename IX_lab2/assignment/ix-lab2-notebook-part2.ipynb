{
 "cells": [
  {
   "cell_type": "markdown",
   "metadata": {},
   "source": [
    "# Networks: structure, evolution & processes\n",
    "**Internet Analytics - Lab 2**\n",
    "\n",
    "---\n",
    "\n",
    "**Group:** *J*\n",
    "\n",
    "**Names:**\n",
    "\n",
    "* *Kenza Driss*\n",
    "* *Maximilien Hoffbeck*\n",
    "* *Jaeyi Jeong*\n",
    "* *Yoojin Kim*\n",
    "---\n",
    "\n",
    "#### Instructions\n",
    "\n",
    "*This is a template for part 2 of the lab. Clearly write your answers, comments and interpretations in Markodown cells. Don't forget that you can add $\\LaTeX$ equations in these cells. Feel free to add or remove any cell.*\n",
    "\n",
    "*Please properly comment your code. Code readability will be considered for grading. To avoid long cells of codes in the notebook, you can also embed long python functions and classes in a separate module. Don’t forget to hand in your module if that is the case. In multiple exercises, you are required to come up with your own method to solve various problems. Be creative and clearly motivate and explain your methods. Creativity and clarity will be considered for grading.*"
   ]
  },
  {
   "cell_type": "markdown",
   "metadata": {},
   "source": [
    "---\n",
    "\n",
    "## 2.2 Network sampling\n",
    "\n",
    "#### Exercise 2.7: Random walk on the Facebook network"
   ]
  },
  {
   "cell_type": "code",
   "execution_count": 1,
   "metadata": {},
   "outputs": [],
   "source": [
    "import requests\n",
    "import random"
   ]
  },
  {
   "cell_type": "code",
   "execution_count": 2,
   "metadata": {
    "jupyter": {
     "outputs_hidden": true
    },
    "scrolled": true
   },
   "outputs": [
    {
     "name": "stdout",
     "output_type": "stream",
     "text": [
      "Number of users visited: 1000\n",
      "Estimated average age: 21.16\n"
     ]
    }
   ],
   "source": [
    "# Base URL of the API\n",
    "HOSTNAME = 'http://iccluster031.iccluster.epfl.ch'\n",
    "URL_TEMPLATE = HOSTNAME + ':5050/v1.0/facebook?user={user_id}'\n",
    "\n",
    "# Starting node\n",
    "start_node = 'a5771bce93e200c36f7cd9dfd0e5deaa'\n",
    "\n",
    "N = 1000 # Number of nodes to visit (we choose N = 1000 for a reasonable sample size)\n",
    "current_node = start_node\n",
    "ages = []\n",
    "degrees = []\n",
    "visited_count = 0\n",
    "\n",
    "# Perform the random walk\n",
    "while visited_count < N:\n",
    "    # Query the API for the current node\n",
    "    url = URL_TEMPLATE.format(user_id=current_node)\n",
    "    response = requests.get(url)\n",
    "    data = response.json()\n",
    "    \n",
    "    # Extract the age and friends\n",
    "    age = data['age']\n",
    "    friends = data['friends']\n",
    "    \n",
    "    # Add the age to our list\n",
    "    ages.append(age)\n",
    "    \n",
    "    # Select a random neighbor\n",
    "    if friends:  # Ensure the node has friends to avoid errors\n",
    "        current_node = random.choice(friends)\n",
    "    else:\n",
    "        # If no friends, restart from the starting node\n",
    "        current_node = start_node\n",
    "    \n",
    "    visited_count += 1\n",
    "\n",
    "# Calculate the average age\n",
    "average_age = sum(ages) / len(ages)\n",
    "\n",
    "# Output the results\n",
    "print(f\"Number of users visited: {visited_count}\")\n",
    "print(f\"Estimated average age: {average_age:.2f}\")"
   ]
  },
  {
   "cell_type": "markdown",
   "metadata": {},
   "source": [
    "#### Exercise 2.8"
   ]
  },
  {
   "cell_type": "markdown",
   "metadata": {},
   "source": [
    "The estimation we obtained is significantly lower than the actual average, around less than a half.\n",
    "\n",
    "Several factors could explain this discrepancy:\n",
    "\n",
    "### Bias in Random Walk Sampling:\n",
    "A random walk tends to oversample nodes with high degrees because nodes with more friends are more likely to be visited. If younger users have more friends (for example by being more active on social media), the random walk will visit them more often, pulling the average age downward.\n",
    "\n",
    "### Non-Uniform Age Distribution:\n",
    "The age distribution on Facebook may not be uniform. If younger users form a large, densely connected component, the random walk might get “trapped” in this subgraph, rarely visiting older users who may have fewer connections or be in a different part of the network.\n",
    "\n",
    "### Starting Node Bias:\n",
    "The starting node **\"a5771bce93e200c36f7cd9dfd0e5deaa\"** might be a younger user or part of a younger user community, causing the random walk to initially sample a biased subset of the network. Random walks can take a long time to “mix” and explore the entire graph, especially in large, clustered networks like social networks.\n",
    "\n",
    "### Burn-in Period:\n",
    "The random walk may not have reached a stationary distribution within 1000 steps, which is a value we chose to have a reasonable running time. The initial steps (burn-in period) are heavily influenced by the starting node’s neighborhood, which may not be representative of the entire network."
   ]
  },
  {
   "cell_type": "markdown",
   "metadata": {},
   "source": [
    "To improve the estimate without crawling more users or using additional seeds, we could re-evaluate the weights of each node to adjust for the oversampling of high-degree nodes.\n",
    "\n",
    "We can try to weight each node’s age by the inverse of its degree (number of friends), since high-degree nodes are visited more often. The corrected average age can be estimated as:\n",
    "\n",
    "$$\n",
    "\\text{Corrected average age} = \\frac{\\sum_{i \\in \\text{visited nodes}} \\text{age}_i / \\text{degree}_i}{\\sum_{i \\in \\text{visited nodes}} 1 / \\text{degree}_i}\n",
    "$$\n",
    " \n",
    "However, since we visit nodes multiple times in a random walk, we need to account for the frequency of visits: let's weight each visit by the inverse of the node’s degree."
   ]
  },
  {
   "cell_type": "code",
   "execution_count": 3,
   "metadata": {
    "jupyter": {
     "outputs_hidden": true
    }
   },
   "outputs": [
    {
     "name": "stdout",
     "output_type": "stream",
     "text": [
      "Naive average age: 25.36\n",
      "Corrected average age: 46.53\n"
     ]
    }
   ],
   "source": [
    "# Base URL of the API\n",
    "HOSTNAME = 'http://iccluster031.iccluster.epfl.ch'\n",
    "URL_TEMPLATE = HOSTNAME + ':5050/v1.0/facebook?user={user_id}'\n",
    "\n",
    "# Starting node\n",
    "start_node = 'a5771bce93e200c36f7cd9dfd0e5deaa'\n",
    "\n",
    "N = 1000\n",
    "current_node = start_node\n",
    "ages = []\n",
    "degrees = []\n",
    "visited_count = 0\n",
    "\n",
    "# Perform the random walk and collect ages and degrees\n",
    "while visited_count < N:\n",
    "    url = URL_TEMPLATE.format(user_id=current_node)\n",
    "    response = requests.get(url)\n",
    "    data = response.json()\n",
    "    \n",
    "    age = data['age']\n",
    "    friends = data['friends']\n",
    "    degree = len(friends)\n",
    "    \n",
    "    ages.append(age)\n",
    "    degrees.append(degree)\n",
    "    \n",
    "    if friends:\n",
    "        current_node = random.choice(friends)\n",
    "    else:\n",
    "        current_node = start_node\n",
    "    \n",
    "    visited_count += 1\n",
    "\n",
    "# Compute the naive average\n",
    "naive_average = sum(ages) / len(ages)\n",
    "\n",
    "# Compute the corrected average by weighting by inverse degree\n",
    "# For each visit, weight the age by 1/degree\n",
    "weighted_sum = 0\n",
    "weight_sum = 0\n",
    "for age, degree in zip(ages, degrees):\n",
    "    if degree > 0:\n",
    "        weight = 1 / degree\n",
    "        weighted_sum += age * weight\n",
    "        weight_sum += weight\n",
    "\n",
    "corrected_average = weighted_sum / weight_sum if weight_sum > 0 else 0\n",
    "\n",
    "# Output results\n",
    "print(f\"Naive average age: {naive_average:.2f}\")\n",
    "print(f\"Corrected average age: {corrected_average:.2f}\")"
   ]
  },
  {
   "cell_type": "code",
   "execution_count": 4,
   "metadata": {},
   "outputs": [
    {
     "data": {
      "image/png": "[encoded data removed]",
      "text/plain": [
       "<Figure size 432x288 with 1 Axes>"
      ]
     },
     "metadata": {
      "needs_background": "light"
     },
     "output_type": "display_data"
    }
   ],
   "source": [
    "import matplotlib.pyplot as plt\n",
    "\n",
    "running_naive = []\n",
    "running_corrected = []\n",
    "current_sum = 0\n",
    "current_weighted_sum = 0\n",
    "current_weight_sum = 0\n",
    "\n",
    "for i, (age, degree) in enumerate(zip(ages, degrees)):\n",
    "    current_sum += age\n",
    "    running_naive.append(current_sum / (i + 1))\n",
    "    \n",
    "    if degree > 0:\n",
    "        weight = 1 / degree\n",
    "        current_weighted_sum += age * weight\n",
    "        current_weight_sum += weight\n",
    "        running_corrected.append(current_weighted_sum / current_weight_sum)\n",
    "    else:\n",
    "        running_corrected.append(running_corrected[-1] if running_corrected else 0)\n",
    "\n",
    "# Plot\n",
    "plt.plot(running_naive, label='Naive Average')\n",
    "plt.plot(running_corrected, label='Corrected Average')\n",
    "plt.axhline(y=45, color='r', linestyle='--', label='True Average (45)')\n",
    "plt.xlabel('Number of Steps')\n",
    "plt.ylabel('Estimated Average Age')\n",
    "plt.legend()\n",
    "plt.show()"
   ]
  }
 ],
 "metadata": {
  "kernelspec": {
   "display_name": "Python 3 (ipykernel)",
   "language": "python",
   "name": "python3"
  },
  "language_info": {
   "codemirror_mode": {
    "name": "ipython",
    "version": 3
   },
   "file_extension": ".py",
   "mimetype": "text/x-python",
   "name": "python",
   "nbconvert_exporter": "python",
   "pygments_lexer": "ipython3",
   "version": "3.10.12"
  }
 },
 "nbformat": 4,
 "nbformat_minor": 4
}
